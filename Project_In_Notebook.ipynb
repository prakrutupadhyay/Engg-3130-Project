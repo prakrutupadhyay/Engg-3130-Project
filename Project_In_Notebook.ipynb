{
 "cells": [
  {
   "cell_type": "code",
   "execution_count": 1,
   "id": "85ba088d",
   "metadata": {
    "scrolled": false
   },
   "outputs": [
    {
     "name": "stdout",
     "output_type": "stream",
     "text": [
      "Interface starting at http://127.0.0.1:8521\n"
     ]
    },
    {
     "name": "stderr",
     "output_type": "stream",
     "text": [
      "Traceback (most recent call last):\n",
      "  File \"C:\\Users\\PrakrutUpadhyay\\Downloads\\Engg-3130-Project\\run.py\", line 3, in <module>\n",
      "    server.launch()\n",
      "  File \"C:\\Users\\PrakrutUpadhyay\\anaconda3\\lib\\site-packages\\mesa\\visualization\\ModularVisualization.py\", line 403, in launch\n",
      "    self.listen(self.port)\n",
      "  File \"C:\\Users\\PrakrutUpadhyay\\anaconda3\\lib\\site-packages\\tornado\\web.py\", line 2109, in listen\n",
      "    server.listen(port, address)\n",
      "  File \"C:\\Users\\PrakrutUpadhyay\\anaconda3\\lib\\site-packages\\tornado\\tcpserver.py\", line 151, in listen\n",
      "    sockets = bind_sockets(port, address=address)\n",
      "  File \"C:\\Users\\PrakrutUpadhyay\\anaconda3\\lib\\site-packages\\tornado\\netutil.py\", line 161, in bind_sockets\n",
      "    sock.bind(sockaddr)\n",
      "OSError: [WinError 10048] Only one usage of each socket address (protocol/network address/port) is normally permitted\n"
     ]
    }
   ],
   "source": [
    "!python run.py"
   ]
  },
  {
   "cell_type": "code",
   "execution_count": null,
   "id": "e9606f55",
   "metadata": {},
   "outputs": [],
   "source": []
  }
 ],
 "metadata": {
  "kernelspec": {
   "display_name": "Python 3 (ipykernel)",
   "language": "python",
   "name": "python3"
  },
  "language_info": {
   "codemirror_mode": {
    "name": "ipython",
    "version": 3
   },
   "file_extension": ".py",
   "mimetype": "text/x-python",
   "name": "python",
   "nbconvert_exporter": "python",
   "pygments_lexer": "ipython3",
   "version": "3.9.13"
  }
 },
 "nbformat": 4,
 "nbformat_minor": 5
}
